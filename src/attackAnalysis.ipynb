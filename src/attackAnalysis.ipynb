{
 "cells": [
  {
   "cell_type": "code",
   "execution_count": null,
   "metadata": {},
   "outputs": [],
   "source": [
    "import RSA\n",
    "import attackRSA\n",
    "import time\n",
    "import matplotlib.pyplot as plt"
   ]
  },
  {
   "cell_type": "code",
   "execution_count": null,
   "metadata": {},
   "outputs": [],
   "source": [
    "plainText = RSA.processInput(\"Hello World!\") # Known plaintext\n",
    "n_bits = []\n",
    "times = []\n",
    "for numberOfBits in range(8, 61, 2):\n",
    "    publicKey, phiN = RSA.generatePublicKey(numberOfBits)\n",
    "    \n",
    "    start = time.time()\n",
    "    privateKey = attackRSA.getPrivateKey(publicKey)\n",
    "    result = attackRSA.attack(plainText, publicKey, privateKey)\n",
    "    end = time.time()\n",
    "    \n",
    "    times.append(end - start)\n",
    "    n_bits.append(numberOfBits)"
   ]
  },
  {
   "cell_type": "code",
   "execution_count": null,
   "metadata": {},
   "outputs": [],
   "source": [
    "plt.plot(n_bits, times)\n",
    "plt.xlabel(\"Number of Bits\")\n",
    "plt.ylabel(\"Time (seconds)\")\n",
    "plt.title(\"Computation time vs Number of bits\")\n",
    "plt.show()"
   ]
  }
 ],
 "metadata": {
  "kernelspec": {
   "display_name": "Python 3",
   "language": "python",
   "name": "python3"
  },
  "language_info": {
   "codemirror_mode": {
    "name": "ipython",
    "version": 3
   },
   "file_extension": ".py",
   "mimetype": "text/x-python",
   "name": "python",
   "nbconvert_exporter": "python",
   "pygments_lexer": "ipython3",
   "version": "3.10.5"
  },
  "orig_nbformat": 4
 },
 "nbformat": 4,
 "nbformat_minor": 2
}
